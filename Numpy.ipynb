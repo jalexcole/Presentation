{
 "cells": [
  {
   "cell_type": "markdown",
   "metadata": {},
   "source": [
    "# Numpy - Numerical Python\n",
    "## Alex Cole\n"
   ]
  },
  {
   "cell_type": "markdown",
   "metadata": {},
   "source": [
    "### What is numpy\n",
    "  Numpy is a python package that links python to numerical packages such as Atlas, OpenBlas, and Intel Math Kernal Library. These are linear algebra routines that allow for direct munipulation of c type objects which reduces runtime overhead of python. Some routines are parallel but many are not. \n",
    "\n",
    "  Numpy gives static typing to python that normally is not there. All c types exist and can run into type errors if not correctly done but will try to correct by converting to the more compatible variable type. A note here is any python variable operated with a numpy object will have a solution that is a numpy variable.\n",
    "  \n",
    "  Numpy is the foundation to python computational routines and forms the bases of: Scipy a numerical methods library, Pandas a statistial library used for data science, and Sympy a symbolic algera system to give mathmatica type functionality.\n",
    "\n",
    "  It is recommended even if you are an experienced developer to always look back at the documentation to make sure that one is using built in functionality for optimal performance"
   ]
  },
  {
   "cell_type": "markdown",
   "metadata": {},
   "source": [
    "### Visualising Numpy\n",
    "\n",
    "  Plotting libraries can help visualize and verify solutions when working with numpy. Matplotlib is a simple and quick ploting library that can quickly give basic plots along with saving into documents and imbedding in tkinter frameworks."
   ]
  },
  {
   "cell_type": "code",
   "execution_count": 7,
   "metadata": {},
   "outputs": [],
   "source": [
    "import numpy\n",
    "import matplotlib.pyplot as plt"
   ]
  },
  {
   "cell_type": "markdown",
   "metadata": {},
   "source": [
    "### Getting Started with Numpy\n",
    "#### Creating Lines\n",
    "\n",
    "  Using the linspace command an array can be created with a defined start and stop position and an initial length of 50 unless redefined. \n",
    "\n",
    "  numpy.linspace(start, stop, num=50, endpoint=True, retstep=False, dtype=None, axis=0)"
   ]
  },
  {
   "cell_type": "code",
   "execution_count": 8,
   "metadata": {},
   "outputs": [
    {
     "data": {
      "image/png": "[encoded data removed]",
      "text/plain": [
       "<Figure size 432x288 with 1 Axes>"
      ]
     },
     "metadata": {},
     "output_type": "display_data"
    }
   ],
   "source": [
    "x = numpy.linspace(0, 1)\n",
    "y = numpy.linspace(0, 1)\n",
    "\n",
    "plt.plot(x, y)\n",
    "plt.title(\"Matplotlib\")\n",
    "plt.grid(True)\n",
    "plt.xlabel(\"x axis\")\n",
    "plt.ylabel(\"y axis\")\n",
    "plt.show()"
   ]
  },
  {
   "cell_type": "markdown",
   "metadata": {},
   "source": [
    "#### Created Defined Step Size\n",
    "With linspace stepsize comes from the amount of points or the preset of 50. If there is a desired step size without a desired end point the numpy.arrange command is used. This is the same as the MATLAB function of using colons to create an array of numbers.\n",
    "\n",
    "numpy.arange([start, ]stop, [step, ]dtype=None)\n"
   ]
  },
  {
   "cell_type": "code",
   "execution_count": 9,
   "metadata": {},
   "outputs": [
    {
     "name": "stdout",
     "output_type": "stream",
     "text": [
      "[0.  0.3 0.6 0.9 1.2 1.5 1.8 2.1 2.4 2.7 3.  3.3 3.6 3.9 4.2 4.5 4.8 5.1\n",
      " 5.4 5.7 6.  6.3 6.6 6.9 7.2 7.5 7.8 8.1 8.4 8.7 9.  9.3 9.6 9.9]\n"
     ]
    }
   ],
   "source": [
    "a = numpy.arange(0, 10, 0.3)\n",
    "print(a)"
   ]
  },
  {
   "cell_type": "markdown",
   "metadata": {},
   "source": [
    "Notice how the steo size is increasing by 0.3 and stops before 10. "
   ]
  },
  {
   "cell_type": "markdown",
   "metadata": {},
   "source": [
    "#### Numerical Algebra\n",
    "Another way to create lines is to use numerical algabra and represent a ordinary polynomial in a matrix by using the poly1d command.\n",
    "\n",
    "Using the equation $ y = a x^2 + bx + x$ this can simply be entered into an array"
   ]
  },
  {
   "cell_type": "code",
   "execution_count": 10,
   "metadata": {},
   "outputs": [
    {
     "name": "stdout",
     "output_type": "stream",
     "text": [
      "   2\n",
      "3 x + 2 x + 1\n"
     ]
    }
   ],
   "source": [
    "y = numpy.poly1d([3, 2, 1])\n",
    "print(y)"
   ]
  },
  {
   "cell_type": "markdown",
   "metadata": {},
   "source": [
    "For the case of the array [3, 2, 1], a = 3, b = 2, and c = 1. However the main purpose of this is now y is a function that can take a set of input paramaters."
   ]
  },
  {
   "cell_type": "code",
   "execution_count": 13,
   "metadata": {},
   "outputs": [
    {
     "data": {
      "image/png": "[encoded data removed]",
      "text/plain": [
       "<Figure size 432x288 with 1 Axes>"
      ]
     },
     "metadata": {},
     "output_type": "display_data"
    }
   ],
   "source": [
    "x = numpy.linspace(0, 5, 10)\n",
    "line = y(x)\n",
    "\n",
    "plt.plot(x, line)\n",
    "plt.title(\"Poly1d Example\")\n",
    "plt.grid(True)\n",
    "plt.xlabel(\"x axis\")\n",
    "plt.ylabel(\"y axis\")\n",
    "plt.show()"
   ]
  },
  {
   "cell_type": "markdown",
   "metadata": {},
   "source": [
    "This code can be represented in a hard coded form of python as:"
   ]
  },
  {
   "cell_type": "code",
   "execution_count": 14,
   "metadata": {},
   "outputs": [],
   "source": [
    "# Deciding if I really want to make this as numpy just does it for you and you should just use numpy"
   ]
  },
  {
   "cell_type": "markdown",
   "metadata": {},
   "source": [
    "#### Derivatives"
   ]
  },
  {
   "cell_type": "markdown",
   "metadata": {},
   "source": [
    "#### Integration"
   ]
  },
  {
   "cell_type": "markdown",
   "metadata": {},
   "source": [
    "#### Root Solving"
   ]
  },
  {
   "cell_type": "markdown",
   "metadata": {},
   "source": [
    "#### Intersections"
   ]
  },
  {
   "cell_type": "markdown",
   "metadata": {},
   "source": [
    "#### Curve Fitting"
   ]
  },
  {
   "cell_type": "markdown",
   "metadata": {},
   "source": [
    "#### Operating with other Poynomials"
   ]
  },
  {
   "cell_type": "markdown",
   "metadata": {},
   "source": [
    "### Vector Operations"
   ]
  },
  {
   "cell_type": "markdown",
   "metadata": {},
   "source": [
    "#### Dot Product"
   ]
  },
  {
   "cell_type": "markdown",
   "metadata": {},
   "source": [
    "#### Cross Product"
   ]
  },
  {
   "cell_type": "markdown",
   "metadata": {},
   "source": [
    "### Matrix Operations"
   ]
  },
  {
   "cell_type": "markdown",
   "metadata": {},
   "source": [
    "Numpy Fundementals, Zeros, Random, Empty, Magic, Multiplication, Division, Transpose, Image Examples"
   ]
  },
  {
   "cell_type": "markdown",
   "metadata": {},
   "source": [
    "### Fast Fourier Transforms"
   ]
  },
  {
   "cell_type": "markdown",
   "metadata": {},
   "source": [
    "### Numba Optimizations "
   ]
  },
  {
   "cell_type": "code",
   "execution_count": null,
   "metadata": {},
   "outputs": [],
   "source": []
  }
 ],
 "metadata": {
  "kernelspec": {
   "display_name": "Python 3",
   "language": "python",
   "name": "python3"
  },
  "language_info": {
   "codemirror_mode": {
    "name": "ipython",
    "version": 3
   },
   "file_extension": ".py",
   "mimetype": "text/x-python",
   "name": "python",
   "nbconvert_exporter": "python",
   "pygments_lexer": "ipython3",
   "version": "3.6.9"
  }
 },
 "nbformat": 4,
 "nbformat_minor": 2
}
